{
 "cells": [
  {
   "cell_type": "code",
   "execution_count": 3,
   "metadata": {},
   "outputs": [],
   "source": [
    "import pyspark\n",
    "\n",
    "from delta import *\n",
    "from pyspark.sql.types import *\n",
    "from delta.tables import *\n",
    "from pyspark.sql.functions import *"
   ]
  },
  {
   "cell_type": "code",
   "execution_count": 4,
   "metadata": {},
   "outputs": [],
   "source": [
    "# Creating spark application with delta lake configuration\n",
    "builder = pyspark.sql.SparkSession.builder.appName(\"pyspark-delta-lake\") \\\n",
    "    .config(\"spark.sql.extensions\", \"io.delta.sql.DeltaSparkSessionExtension\") \\\n",
    "    .config(\"spark.sql.catalog.spark_catalog\", \"org.apache.spark.sql.delta.catalog.DeltaCatalog\")"
   ]
  },
  {
   "cell_type": "code",
   "execution_count": 5,
   "metadata": {},
   "outputs": [
    {
     "name": "stderr",
     "output_type": "stream",
     "text": [
      "24/04/24 20:01:50 WARN Utils: Your hostname, galaxia-vostro-3520 resolves to a loopback address: 127.0.1.1; using 10.32.9.180 instead (on interface wlp0s20f3)\n",
      "24/04/24 20:01:50 WARN Utils: Set SPARK_LOCAL_IP if you need to bind to another address\n"
     ]
    },
    {
     "name": "stdout",
     "output_type": "stream",
     "text": [
      ":: loading settings :: url = jar:file:/home/eduardo.freitas/dev/projects/college/delta-lake-iceberg-demo/venv/lib/python3.12/site-packages/pyspark/jars/ivy-2.5.1.jar!/org/apache/ivy/core/settings/ivysettings.xml\n"
     ]
    },
    {
     "name": "stderr",
     "output_type": "stream",
     "text": [
      "Ivy Default Cache set to: /home/eduardo.freitas/.ivy2/cache\n",
      "The jars for the packages stored in: /home/eduardo.freitas/.ivy2/jars\n",
      "io.delta#delta-spark_2.12 added as a dependency\n",
      ":: resolving dependencies :: org.apache.spark#spark-submit-parent-f3758c27-4dd1-48fd-84f7-4980fd7e26ee;1.0\n",
      "\tconfs: [default]\n",
      "\tfound io.delta#delta-spark_2.12;3.1.0 in central\n",
      "\tfound io.delta#delta-storage;3.1.0 in central\n",
      "\tfound org.antlr#antlr4-runtime;4.9.3 in central\n",
      ":: resolution report :: resolve 538ms :: artifacts dl 21ms\n",
      "\t:: modules in use:\n",
      "\tio.delta#delta-spark_2.12;3.1.0 from central in [default]\n",
      "\tio.delta#delta-storage;3.1.0 from central in [default]\n",
      "\torg.antlr#antlr4-runtime;4.9.3 from central in [default]\n",
      "\t---------------------------------------------------------------------\n",
      "\t|                  |            modules            ||   artifacts   |\n",
      "\t|       conf       | number| search|dwnlded|evicted|| number|dwnlded|\n",
      "\t---------------------------------------------------------------------\n",
      "\t|      default     |   3   |   0   |   0   |   0   ||   3   |   0   |\n",
      "\t---------------------------------------------------------------------\n",
      ":: retrieving :: org.apache.spark#spark-submit-parent-f3758c27-4dd1-48fd-84f7-4980fd7e26ee\n",
      "\tconfs: [default]\n",
      "\t0 artifacts copied, 3 already retrieved (0kB/19ms)\n",
      "24/04/24 20:01:52 WARN NativeCodeLoader: Unable to load native-hadoop library for your platform... using builtin-java classes where applicable\n",
      "Setting default log level to \"WARN\".\n",
      "To adjust logging level use sc.setLogLevel(newLevel). For SparkR, use setLogLevel(newLevel).\n",
      "24/04/24 20:01:55 WARN Utils: Service 'SparkUI' could not bind on port 4040. Attempting port 4041.\n"
     ]
    }
   ],
   "source": [
    "# Creating delta/spark context\n",
    "spark = configure_spark_with_delta_pip(builder).getOrCreate()\n",
    "spark.sparkContext.setLogLevel(\"ERROR\")"
   ]
  },
  {
   "cell_type": "code",
   "execution_count": 6,
   "metadata": {},
   "outputs": [
    {
     "name": "stderr",
     "output_type": "stream",
     "text": [
      "                                                                                \r"
     ]
    }
   ],
   "source": [
    "# Creating the delta table\n",
    "schema = StructType([\n",
    "    StructField(\"id\", IntegerType(), False),\n",
    "    StructField(\"url\", StringType(), True),\n",
    "    StructField(\"title\", StringType(), True),\n",
    "    StructField(\"upc\", StringType(), True),\n",
    "    StructField(\"product_type\", StringType(), True),\n",
    "    StructField(\"price_excl_tax\", IntegerType(), True),\n",
    "    StructField(\"price_incl_tax\", IntegerType(), True),\n",
    "    StructField(\"tax\", IntegerType(), True),\n",
    "    StructField(\"price\", IntegerType(), True),\n",
    "    StructField(\"availability\", IntegerType(), True),\n",
    "    StructField(\"num_reviews\", IntegerType(), True),\n",
    "    StructField(\"stars\", IntegerType(), True),\n",
    "    StructField(\"category\", StringType(), True),\n",
    "    StructField(\"description\", StringType(), True)\n",
    "])\n",
    "\n",
    "books_df = spark.read.json('books.json', schema)\n",
    "books_df.write.mode(saveMode=\"overwrite\").format(\"delta\").save(\"data/delta/books\")"
   ]
  },
  {
   "cell_type": "code",
   "execution_count": 7,
   "metadata": {},
   "outputs": [
    {
     "name": "stdout",
     "output_type": "stream",
     "text": [
      "Schema for books_df\n",
      "root\n",
      " |-- id: integer (nullable = true)\n",
      " |-- url: string (nullable = true)\n",
      " |-- title: string (nullable = true)\n",
      " |-- upc: string (nullable = true)\n",
      " |-- product_type: string (nullable = true)\n",
      " |-- price_excl_tax: integer (nullable = true)\n",
      " |-- price_incl_tax: integer (nullable = true)\n",
      " |-- tax: integer (nullable = true)\n",
      " |-- price: integer (nullable = true)\n",
      " |-- availability: integer (nullable = true)\n",
      " |-- num_reviews: integer (nullable = true)\n",
      " |-- stars: integer (nullable = true)\n",
      " |-- category: string (nullable = true)\n",
      " |-- description: string (nullable = true)\n",
      "\n",
      "Number of rows:  998\n"
     ]
    }
   ],
   "source": [
    "# Metadata for books_df delta table\n",
    "# Schema\n",
    "print('Schema for books_df')\n",
    "books_df.printSchema()\n",
    "\n",
    "# Number of rows\n",
    "print('Number of rows: ', books_df.count())"
   ]
  },
  {
   "cell_type": "code",
   "execution_count": 8,
   "metadata": {},
   "outputs": [
    {
     "name": "stderr",
     "output_type": "stream",
     "text": [
      "                                                                                \r"
     ]
    },
    {
     "name": "stdout",
     "output_type": "stream",
     "text": [
      "+----+--------------------+--------------------+----------------+------------+--------------+--------------+----+-----+------------+-----------+-----+------------------+--------------------+\n",
      "|  id|                 url|               title|             upc|product_type|price_excl_tax|price_incl_tax| tax|price|availability|num_reviews|stars|          category|         description|\n",
      "+----+--------------------+--------------------+----------------+------------+--------------+--------------+----+-----+------------+-----------+-----+------------------+--------------------+\n",
      "|NULL|                NULL|                NULL|            NULL|        NULL|          NULL|          NULL|NULL| NULL|        NULL|       NULL| NULL|              NULL|                NULL|\n",
      "|   2|https://books.tos...|Scott Pilgrim's l...|3b1c02bac2a429e6|       books|          NULL|          NULL|NULL| NULL|          19|          0|    5|    sequential art|('Scott Pilgrim\\'...|\n",
      "|   3|https://books.tos...|Aaron Ledbetter’s...|ce6396b0f23f6ecc|       books|          NULL|          NULL|NULL| NULL|          19|          0|    5|       young adult|('Aaron Ledbetter...|\n",
      "|   4|https://books.tos...|From a renowned h...|4165285e1663650f|       books|          NULL|          NULL|NULL| NULL|          20|          0|    5|           history|('From a renowned...|\n",
      "|   5|https://books.tos...|This book is an i...|30a7f60cd76ca58c|       books|          NULL|          NULL|NULL| NULL|          19|          0|    4|            poetry|('This book is an...|\n",
      "|   6|https://books.tos...|WICKED above her ...|e00eb4fd7b871a48|       books|          NULL|          NULL|NULL| NULL|          20|          0|    4|           mystery|('WICKED above he...|\n",
      "|   7|https://books.tos...|\"If you have a he...|e72a5dfc7e9267b2|       books|          NULL|          NULL|NULL| NULL|          19|          0|    3|           default|('\"If you have a ...|\n",
      "|   8|https://books.tos...|Dans une France a...|6957f44c3847a760|       books|          NULL|          NULL|NULL| NULL|          20|          0|    1|           fiction|('Dans une France...|\n",
      "|   9|https://books.tos...|Patient Twenty-ni...|f77dbf2323deb740|       books|          NULL|          NULL|NULL| NULL|          19|          0|    1|       young adult|(\"Patient Twenty-...|\n",
      "|  10|https://books.tos...|Drawing on his ex...|2597b5a345f45e1b|       books|          NULL|          NULL|NULL| NULL|          19|          0|    4|          business|(\"Drawing on his ...|\n",
      "|  11|https://books.tos...|\"Erotic and absor...|90fa61229261140a|       books|          NULL|          NULL|NULL| NULL|          20|          0|    1|historical fiction|('\"Erotic and abs...|\n",
      "|  12|https://books.tos...|Praise for Aracel...|1dfe412b8ac00530|       books|          NULL|          NULL|NULL| NULL|          19|          0|    1|            poetry|('Praise for Arac...|\n",
      "|  13|https://books.tos...|Libertarianism is...|a18a4f574854aced|       books|          NULL|          NULL|NULL| NULL|          19|          0|    2|          politics|('Libertarianism ...|\n",
      "|  14|https://books.tos...|Since her assault...|0312262ecafa5a40|       books|          NULL|          NULL|NULL| NULL|          19|          0|    2|           default|(\"Since her assau...|\n",
      "|  15|https://books.tos...|Andrew Barger, aw...|e30f54cea9b38190|       books|          NULL|          NULL|NULL| NULL|          19|          0|    1|   science fiction|('Andrew Barger, ...|\n",
      "|  16|https://books.tos...|“Wherever you go,...|a22124811bfa8350|       books|          NULL|          NULL|NULL| NULL|          19|          0|    2|            travel|('“Wherever you g...|\n",
      "|  17|https://books.tos...|Part fact, part f...|feb7cc7701ecf901|       books|          NULL|          NULL|NULL| NULL|          19|          0|    1|            poetry|(\"Part fact, part...|\n",
      "|  18|https://books.tos...|This is the never...|deda3e61b9514b83|       books|          NULL|          NULL|NULL| NULL|          19|          0|    3|             music|(\"This is the nev...|\n",
      "|  19|https://books.tos...|For readers of La...|e10e1e165dc8be4a|       books|          NULL|          NULL|NULL| NULL|          19|          0|    4|           default|(\"For readers of ...|\n",
      "|  20|https://books.tos...|Punk's raw power ...|a34ba96d4081e6a4|       books|          NULL|          NULL|NULL| NULL|          19|          0|    5|             music|(\"Punk's raw powe...|\n",
      "+----+--------------------+--------------------+----------------+------------+--------------+--------------+----+-----+------------+-----------+-----+------------------+--------------------+\n",
      "only showing top 20 rows\n",
      "\n"
     ]
    }
   ],
   "source": [
    "# Reading the books as a delta table\n",
    "books = spark.read.format(\"delta\").load(\"data/delta/books\")\n",
    "\n",
    "books.show()"
   ]
  },
  {
   "cell_type": "code",
   "execution_count": 9,
   "metadata": {},
   "outputs": [],
   "source": [
    "# Creating a temporary view for querying results out of books delta table\n",
    "books_df.createOrReplaceTempView(\"books\")"
   ]
  },
  {
   "cell_type": "code",
   "execution_count": 10,
   "metadata": {},
   "outputs": [
    {
     "name": "stdout",
     "output_type": "stream",
     "text": [
      "+--------------------+-----+---------------+\n",
      "|               title|stars|       category|\n",
      "+--------------------+-----+---------------+\n",
      "|Scott Pilgrim's l...|    5| sequential art|\n",
      "|Aaron Ledbetter’s...|    5|    young adult|\n",
      "|From a renowned h...|    5|        history|\n",
      "|Punk's raw power ...|    5|          music|\n",
      "|No matter how bus...|    5|        romance|\n",
      "|A Michelin two-st...|    5|        romance|\n",
      "|Anti-apartheid ac...|    5|     nonfiction|\n",
      "|A page-turning no...|    5|     philosophy|\n",
      "|Mark Fallon is an...|    5|       thriller|\n",
      "|In The Four Agree...|    5|   spirituality|\n",
      "|Paris is burning-...|    5|        fiction|\n",
      "|There is a cosmic...|    5|     nonfiction|\n",
      "|On a searing summ...|    5|        fiction|\n",
      "|The Freeman famil...|    5|        fiction|\n",
      "|Slay Procrastinat...|    5|        default|\n",
      "|Change and anger ...|    5|   spirituality|\n",
      "|Just as Annie and...|    5|        fantasy|\n",
      "|THE LONG-AWAITED ...|    5| sequential art|\n",
      "|What if you could...|    5|science fiction|\n",
      "|Tired of the pace...|    5|     nonfiction|\n",
      "+--------------------+-----+---------------+\n",
      "only showing top 20 rows\n",
      "\n"
     ]
    }
   ],
   "source": [
    "# Querying 5 stars books\n",
    "five_stars_books_df = spark.sql(\"SELECT title, stars, category FROM books WHERE stars > 4 ORDER BY stars DESC\")\n",
    "\n",
    "five_stars_books_df.show()"
   ]
  },
  {
   "cell_type": "code",
   "execution_count": null,
   "metadata": {},
   "outputs": [],
   "source": []
  },
  {
   "cell_type": "code",
   "execution_count": null,
   "metadata": {},
   "outputs": [],
   "source": []
  }
 ],
 "metadata": {
  "kernelspec": {
   "display_name": "venv",
   "language": "python",
   "name": "python3"
  },
  "language_info": {
   "codemirror_mode": {
    "name": "ipython",
    "version": 3
   },
   "file_extension": ".py",
   "mimetype": "text/x-python",
   "name": "python",
   "nbconvert_exporter": "python",
   "pygments_lexer": "ipython3",
   "version": "3.12.2"
  }
 },
 "nbformat": 4,
 "nbformat_minor": 2
}
